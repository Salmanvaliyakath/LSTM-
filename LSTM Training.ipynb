{
 "cells": [
  {
   "cell_type": "code",
   "execution_count": 2,
   "id": "73aafe7b",
   "metadata": {},
   "outputs": [],
   "source": [
    "# https://github.com/Vishwa22/Multi-Label-Text-Classification/blob/master/MultilabelClassification.ipynb"
   ]
  },
  {
   "cell_type": "code",
   "execution_count": 1,
   "id": "72ef3c31",
   "metadata": {},
   "outputs": [
    {
     "name": "stdout",
     "output_type": "stream",
     "text": [
      "WARNING:tensorflow:From C:\\Users\\MSALMANN\\Anaconda3\\Anaconda3\\envs\\track\\lib\\site-packages\\keras\\src\\losses.py:2976: The name tf.losses.sparse_softmax_cross_entropy is deprecated. Please use tf.compat.v1.losses.sparse_softmax_cross_entropy instead.\n",
      "\n"
     ]
    }
   ],
   "source": [
    "from numpy import array\n",
    "from keras.preprocessing.text import one_hot\n",
    "from keras.preprocessing.sequence import pad_sequences\n",
    "from keras.models import Sequential\n",
    "from keras.layers import Activation, Dropout, Dense\n",
    "from keras.layers import Flatten, LSTM\n",
    "from keras.layers import GlobalMaxPooling1D\n",
    "from keras.models import Model\n",
    "from keras.layers import Embedding\n",
    "from sklearn.model_selection import train_test_split\n",
    "from keras.preprocessing.text import Tokenizer\n",
    "from keras.layers import Input\n",
    "from keras.layers import Concatenate\n",
    "\n",
    "import pandas as pd\n",
    "import numpy as np\n",
    "import re\n",
    "\n",
    "import matplotlib.pyplot as plt"
   ]
  },
  {
   "cell_type": "code",
   "execution_count": 2,
   "id": "3edfdad2",
   "metadata": {},
   "outputs": [],
   "source": [
    "toxic_comments = pd.read_csv(\"train.csv\")"
   ]
  },
  {
   "cell_type": "code",
   "execution_count": 3,
   "id": "d60373f0",
   "metadata": {},
   "outputs": [
    {
     "name": "stdout",
     "output_type": "stream",
     "text": [
      "(159571, 8)\n"
     ]
    },
    {
     "data": {
      "text/html": [
       "<div>\n",
       "<style scoped>\n",
       "    .dataframe tbody tr th:only-of-type {\n",
       "        vertical-align: middle;\n",
       "    }\n",
       "\n",
       "    .dataframe tbody tr th {\n",
       "        vertical-align: top;\n",
       "    }\n",
       "\n",
       "    .dataframe thead th {\n",
       "        text-align: right;\n",
       "    }\n",
       "</style>\n",
       "<table border=\"1\" class=\"dataframe\">\n",
       "  <thead>\n",
       "    <tr style=\"text-align: right;\">\n",
       "      <th></th>\n",
       "      <th>id</th>\n",
       "      <th>comment_text</th>\n",
       "      <th>toxic</th>\n",
       "      <th>severe_toxic</th>\n",
       "      <th>obscene</th>\n",
       "      <th>threat</th>\n",
       "      <th>insult</th>\n",
       "      <th>identity_hate</th>\n",
       "    </tr>\n",
       "  </thead>\n",
       "  <tbody>\n",
       "    <tr>\n",
       "      <th>0</th>\n",
       "      <td>0000997932d777bf</td>\n",
       "      <td>Explanation\\nWhy the edits made under my usern...</td>\n",
       "      <td>0</td>\n",
       "      <td>0</td>\n",
       "      <td>0</td>\n",
       "      <td>0</td>\n",
       "      <td>0</td>\n",
       "      <td>0</td>\n",
       "    </tr>\n",
       "    <tr>\n",
       "      <th>1</th>\n",
       "      <td>000103f0d9cfb60f</td>\n",
       "      <td>D'aww! He matches this background colour I'm s...</td>\n",
       "      <td>0</td>\n",
       "      <td>0</td>\n",
       "      <td>0</td>\n",
       "      <td>0</td>\n",
       "      <td>0</td>\n",
       "      <td>0</td>\n",
       "    </tr>\n",
       "    <tr>\n",
       "      <th>2</th>\n",
       "      <td>000113f07ec002fd</td>\n",
       "      <td>Hey man, I'm really not trying to edit war. It...</td>\n",
       "      <td>0</td>\n",
       "      <td>0</td>\n",
       "      <td>0</td>\n",
       "      <td>0</td>\n",
       "      <td>0</td>\n",
       "      <td>0</td>\n",
       "    </tr>\n",
       "    <tr>\n",
       "      <th>3</th>\n",
       "      <td>0001b41b1c6bb37e</td>\n",
       "      <td>\"\\nMore\\nI can't make any real suggestions on ...</td>\n",
       "      <td>0</td>\n",
       "      <td>0</td>\n",
       "      <td>0</td>\n",
       "      <td>0</td>\n",
       "      <td>0</td>\n",
       "      <td>0</td>\n",
       "    </tr>\n",
       "    <tr>\n",
       "      <th>4</th>\n",
       "      <td>0001d958c54c6e35</td>\n",
       "      <td>You, sir, are my hero. Any chance you remember...</td>\n",
       "      <td>0</td>\n",
       "      <td>0</td>\n",
       "      <td>0</td>\n",
       "      <td>0</td>\n",
       "      <td>0</td>\n",
       "      <td>0</td>\n",
       "    </tr>\n",
       "  </tbody>\n",
       "</table>\n",
       "</div>"
      ],
      "text/plain": [
       "                 id                                       comment_text  toxic  \\\n",
       "0  0000997932d777bf  Explanation\\nWhy the edits made under my usern...      0   \n",
       "1  000103f0d9cfb60f  D'aww! He matches this background colour I'm s...      0   \n",
       "2  000113f07ec002fd  Hey man, I'm really not trying to edit war. It...      0   \n",
       "3  0001b41b1c6bb37e  \"\\nMore\\nI can't make any real suggestions on ...      0   \n",
       "4  0001d958c54c6e35  You, sir, are my hero. Any chance you remember...      0   \n",
       "\n",
       "   severe_toxic  obscene  threat  insult  identity_hate  \n",
       "0             0        0       0       0              0  \n",
       "1             0        0       0       0              0  \n",
       "2             0        0       0       0              0  \n",
       "3             0        0       0       0              0  \n",
       "4             0        0       0       0              0  "
      ]
     },
     "execution_count": 3,
     "metadata": {},
     "output_type": "execute_result"
    }
   ],
   "source": [
    "print(toxic_comments.shape)\n",
    "\n",
    "toxic_comments.head()"
   ]
  },
  {
   "cell_type": "code",
   "execution_count": null,
   "id": "e0ea2b41",
   "metadata": {},
   "outputs": [],
   "source": []
  },
  {
   "cell_type": "code",
   "execution_count": 4,
   "id": "9069732d",
   "metadata": {},
   "outputs": [],
   "source": [
    "filter = toxic_comments[\"comment_text\"] != \"\"\n",
    "toxic_comments = toxic_comments[filter]\n",
    "toxic_comments = toxic_comments.dropna()"
   ]
  },
  {
   "cell_type": "code",
   "execution_count": 5,
   "id": "8941ad8b",
   "metadata": {},
   "outputs": [
    {
     "name": "stdout",
     "output_type": "stream",
     "text": [
      "You should be fired, you're a moronic wimp who is too lazy to do research. It makes me sick that people like you exist in this world.\n"
     ]
    }
   ],
   "source": [
    "print(toxic_comments[\"comment_text\"][168])"
   ]
  },
  {
   "cell_type": "code",
   "execution_count": 6,
   "id": "9ea0bb73",
   "metadata": {},
   "outputs": [
    {
     "name": "stdout",
     "output_type": "stream",
     "text": [
      "Toxic:1\n",
      "Severe_toxic:0\n",
      "Obscene:0\n",
      "Threat:0\n",
      "Insult:1\n",
      "Identity_hate:0\n"
     ]
    }
   ],
   "source": [
    "print(\"Toxic:\" + str(toxic_comments[\"toxic\"][168]))\n",
    "print(\"Severe_toxic:\" + str(toxic_comments[\"severe_toxic\"][168]))\n",
    "print(\"Obscene:\" + str(toxic_comments[\"obscene\"][168]))\n",
    "print(\"Threat:\" + str(toxic_comments[\"threat\"][168]))\n",
    "print(\"Insult:\" + str(toxic_comments[\"insult\"][168]))\n",
    "print(\"Identity_hate:\" + str(toxic_comments[\"identity_hate\"][168]))"
   ]
  },
  {
   "cell_type": "code",
   "execution_count": 7,
   "id": "19e0d2a7",
   "metadata": {},
   "outputs": [
    {
     "data": {
      "text/html": [
       "<div>\n",
       "<style scoped>\n",
       "    .dataframe tbody tr th:only-of-type {\n",
       "        vertical-align: middle;\n",
       "    }\n",
       "\n",
       "    .dataframe tbody tr th {\n",
       "        vertical-align: top;\n",
       "    }\n",
       "\n",
       "    .dataframe thead th {\n",
       "        text-align: right;\n",
       "    }\n",
       "</style>\n",
       "<table border=\"1\" class=\"dataframe\">\n",
       "  <thead>\n",
       "    <tr style=\"text-align: right;\">\n",
       "      <th></th>\n",
       "      <th>toxic</th>\n",
       "      <th>severe_toxic</th>\n",
       "      <th>obscene</th>\n",
       "      <th>threat</th>\n",
       "      <th>insult</th>\n",
       "      <th>identity_hate</th>\n",
       "    </tr>\n",
       "  </thead>\n",
       "  <tbody>\n",
       "    <tr>\n",
       "      <th>0</th>\n",
       "      <td>0</td>\n",
       "      <td>0</td>\n",
       "      <td>0</td>\n",
       "      <td>0</td>\n",
       "      <td>0</td>\n",
       "      <td>0</td>\n",
       "    </tr>\n",
       "    <tr>\n",
       "      <th>1</th>\n",
       "      <td>0</td>\n",
       "      <td>0</td>\n",
       "      <td>0</td>\n",
       "      <td>0</td>\n",
       "      <td>0</td>\n",
       "      <td>0</td>\n",
       "    </tr>\n",
       "    <tr>\n",
       "      <th>2</th>\n",
       "      <td>0</td>\n",
       "      <td>0</td>\n",
       "      <td>0</td>\n",
       "      <td>0</td>\n",
       "      <td>0</td>\n",
       "      <td>0</td>\n",
       "    </tr>\n",
       "    <tr>\n",
       "      <th>3</th>\n",
       "      <td>0</td>\n",
       "      <td>0</td>\n",
       "      <td>0</td>\n",
       "      <td>0</td>\n",
       "      <td>0</td>\n",
       "      <td>0</td>\n",
       "    </tr>\n",
       "    <tr>\n",
       "      <th>4</th>\n",
       "      <td>0</td>\n",
       "      <td>0</td>\n",
       "      <td>0</td>\n",
       "      <td>0</td>\n",
       "      <td>0</td>\n",
       "      <td>0</td>\n",
       "    </tr>\n",
       "  </tbody>\n",
       "</table>\n",
       "</div>"
      ],
      "text/plain": [
       "   toxic  severe_toxic  obscene  threat  insult  identity_hate\n",
       "0      0             0        0       0       0              0\n",
       "1      0             0        0       0       0              0\n",
       "2      0             0        0       0       0              0\n",
       "3      0             0        0       0       0              0\n",
       "4      0             0        0       0       0              0"
      ]
     },
     "execution_count": 7,
     "metadata": {},
     "output_type": "execute_result"
    }
   ],
   "source": [
    "toxic_comments_labels = toxic_comments[[\"toxic\", \"severe_toxic\", \"obscene\", \"threat\", \"insult\", \"identity_hate\"]]\n",
    "toxic_comments_labels.head()"
   ]
  },
  {
   "cell_type": "code",
   "execution_count": 8,
   "id": "0aa4f4cd",
   "metadata": {},
   "outputs": [
    {
     "data": {
      "text/plain": [
       "<Axes: >"
      ]
     },
     "execution_count": 8,
     "metadata": {},
     "output_type": "execute_result"
    },
    {
     "data": {
      "image/png": "[encoded data removed]",
      "text/plain": [
       "<Figure size 1000x800 with 1 Axes>"
      ]
     },
     "metadata": {},
     "output_type": "display_data"
    }
   ],
   "source": [
    "fig_size = plt.rcParams[\"figure.figsize\"]\n",
    "fig_size[0] = 10\n",
    "fig_size[1] = 8\n",
    "plt.rcParams[\"figure.figsize\"] = fig_size\n",
    "\n",
    "toxic_comments_labels.sum(axis=0).plot.bar()"
   ]
  },
  {
   "cell_type": "code",
   "execution_count": 9,
   "id": "a0a85233",
   "metadata": {},
   "outputs": [],
   "source": [
    "def preprocess_text(sen):\n",
    "    # Remove punctuations and numbers\n",
    "    sentence = re.sub('[^a-zA-Z]', ' ', sen)\n",
    "\n",
    "    # Single character removal\n",
    "    sentence = re.sub(r\"\\s+[a-zA-Z]\\s+\", ' ', sentence)\n",
    "\n",
    "    # Removing multiple spaces\n",
    "    sentence = re.sub(r'\\s+', ' ', sentence)\n",
    "\n",
    "    return sentence"
   ]
  },
  {
   "cell_type": "code",
   "execution_count": 10,
   "id": "5e15ae1a",
   "metadata": {},
   "outputs": [],
   "source": [
    "X = []\n",
    "sentences = list(toxic_comments[\"comment_text\"])\n",
    "for sen in sentences:\n",
    "    X.append(preprocess_text(sen))\n",
    "\n",
    "y = toxic_comments_labels.values"
   ]
  },
  {
   "cell_type": "code",
   "execution_count": 11,
   "id": "984ae40a",
   "metadata": {},
   "outputs": [],
   "source": [
    "X_train, X_test, y_train, y_test = train_test_split(X, y, test_size=0.20, random_state=42)"
   ]
  },
  {
   "cell_type": "code",
   "execution_count": 12,
   "id": "f34ad31b",
   "metadata": {},
   "outputs": [],
   "source": [
    "tokenizer = Tokenizer(num_words=5000)\n",
    "tokenizer.fit_on_texts(X_train)\n",
    "\n",
    "X_train = tokenizer.texts_to_sequences(X_train)\n",
    "X_test = tokenizer.texts_to_sequences(X_test)\n",
    "\n",
    "vocab_size = len(tokenizer.word_index) + 1\n",
    "\n",
    "maxlen = 200\n",
    "\n",
    "X_train = pad_sequences(X_train, padding='post', maxlen=maxlen)\n",
    "X_test = pad_sequences(X_test, padding='post', maxlen=maxlen)"
   ]
  },
  {
   "cell_type": "code",
   "execution_count": 13,
   "id": "cd201147",
   "metadata": {},
   "outputs": [],
   "source": [
    "from numpy import array\n",
    "from numpy import asarray\n",
    "from numpy import zeros\n",
    "\n",
    "embeddings_dictionary = dict()\n",
    "\n",
    "glove_file = open('glove.6B.100d.txt', encoding=\"utf8\")\n",
    "\n",
    "for line in glove_file:\n",
    "    records = line.split()\n",
    "    word = records[0]\n",
    "    vector_dimensions = asarray(records[1:], dtype='float32')\n",
    "    embeddings_dictionary[word] = vector_dimensions\n",
    "glove_file.close()\n",
    "\n",
    "embedding_matrix = zeros((vocab_size, 100))\n",
    "for word, index in tokenizer.word_index.items():\n",
    "    embedding_vector = embeddings_dictionary.get(word)\n",
    "    if embedding_vector is not None:\n",
    "        embedding_matrix[index] = embedding_vector"
   ]
  },
  {
   "cell_type": "code",
   "execution_count": 41,
   "id": "41850fac",
   "metadata": {},
   "outputs": [
    {
     "name": "stdout",
     "output_type": "stream",
     "text": [
      "WARNING:tensorflow:From C:\\Users\\MSALMANN\\Anaconda3\\Anaconda3\\envs\\track\\lib\\site-packages\\keras\\src\\backend.py:1398: The name tf.executing_eagerly_outside_functions is deprecated. Please use tf.compat.v1.executing_eagerly_outside_functions instead.\n",
      "\n",
      "WARNING:tensorflow:From C:\\Users\\MSALMANN\\Anaconda3\\Anaconda3\\envs\\track\\lib\\site-packages\\keras\\src\\optimizers\\__init__.py:309: The name tf.train.Optimizer is deprecated. Please use tf.compat.v1.train.Optimizer instead.\n",
      "\n"
     ]
    }
   ],
   "source": [
    "deep_inputs = Input(shape=(maxlen,))\n",
    "embedding_layer = Embedding(vocab_size, 100, weights=[embedding_matrix], trainable=False)(deep_inputs)\n",
    "LSTM_Layer_1 = LSTM(128)(embedding_layer)\n",
    "dense_layer_1 = Dense(6, activation='sigmoid')(LSTM_Layer_1)\n",
    "model = Model(inputs=deep_inputs, outputs=dense_layer_1)\n",
    "\n",
    "model.compile(loss='binary_crossentropy', optimizer='adam', metrics=['acc'])"
   ]
  },
  {
   "cell_type": "code",
   "execution_count": 42,
   "id": "7e844232",
   "metadata": {},
   "outputs": [
    {
     "name": "stdout",
     "output_type": "stream",
     "text": [
      "Model: \"model\"\n",
      "_________________________________________________________________\n",
      " Layer (type)                Output Shape              Param #   \n",
      "=================================================================\n",
      " input_1 (InputLayer)        [(None, 200)]             0         \n",
      "                                                                 \n",
      " embedding (Embedding)       (None, 200, 100)          14824300  \n",
      "                                                                 \n",
      " lstm (LSTM)                 (None, 128)               117248    \n",
      "                                                                 \n",
      " dense (Dense)               (None, 6)                 774       \n",
      "                                                                 \n",
      "=================================================================\n",
      "Total params: 14942322 (57.00 MB)\n",
      "Trainable params: 118022 (461.02 KB)\n",
      "Non-trainable params: 14824300 (56.55 MB)\n",
      "_________________________________________________________________\n",
      "None\n"
     ]
    }
   ],
   "source": [
    "print(model.summary())"
   ]
  },
  {
   "cell_type": "code",
   "execution_count": 43,
   "id": "88a471e5",
   "metadata": {},
   "outputs": [
    {
     "name": "stdout",
     "output_type": "stream",
     "text": [
      "You must install pydot (`pip install pydot`) and install graphviz (see instructions at https://graphviz.gitlab.io/download/) for plot_model to work.\n"
     ]
    }
   ],
   "source": [
    "from keras.utils import plot_model\n",
    "plot_model(model, to_file='model_plot4a.png', show_shapes=True, show_layer_names=True)"
   ]
  },
  {
   "cell_type": "code",
   "execution_count": 89,
   "id": "a15be1a9",
   "metadata": {
    "scrolled": true
   },
   "outputs": [
    {
     "name": "stdout",
     "output_type": "stream",
     "text": [
      "Epoch 1/50\n",
      "798/798 [==============================] - 354s 444ms/step - loss: 0.0663 - acc: 0.9915 - val_loss: 0.0605 - val_acc: 0.9937\n",
      "Epoch 2/50\n",
      "798/798 [==============================] - 395s 495ms/step - loss: 0.0630 - acc: 0.9916 - val_loss: 0.0636 - val_acc: 0.9860\n",
      "Epoch 3/50\n",
      "798/798 [==============================] - 403s 505ms/step - loss: 0.0582 - acc: 0.9934 - val_loss: 0.0576 - val_acc: 0.9943\n",
      "Epoch 4/50\n",
      "798/798 [==============================] - 10973s 14s/step - loss: 0.0549 - acc: 0.9939 - val_loss: 0.0567 - val_acc: 0.9942\n",
      "Epoch 5/50\n",
      "798/798 [==============================] - 346s 434ms/step - loss: 0.0533 - acc: 0.9939 - val_loss: 0.0550 - val_acc: 0.9942\n",
      "Epoch 6/50\n",
      "798/798 [==============================] - 400s 501ms/step - loss: 0.0517 - acc: 0.9941 - val_loss: 0.0547 - val_acc: 0.9943\n",
      "Epoch 7/50\n",
      "798/798 [==============================] - 467s 586ms/step - loss: 0.0504 - acc: 0.9940 - val_loss: 0.0547 - val_acc: 0.9937\n",
      "Epoch 8/50\n",
      "798/798 [==============================] - 392s 492ms/step - loss: 0.0493 - acc: 0.9940 - val_loss: 0.0540 - val_acc: 0.9942\n",
      "Epoch 9/50\n",
      "798/798 [==============================] - 407s 510ms/step - loss: 0.0478 - acc: 0.9940 - val_loss: 0.0547 - val_acc: 0.9940\n",
      "Epoch 10/50\n",
      "798/798 [==============================] - 19654s 25s/step - loss: 0.0465 - acc: 0.9940 - val_loss: 0.0551 - val_acc: 0.9940\n",
      "Epoch 11/50\n",
      "798/798 [==============================] - 560s 702ms/step - loss: 0.0449 - acc: 0.9940 - val_loss: 0.0533 - val_acc: 0.9934\n",
      "Epoch 12/50\n",
      "798/798 [==============================] - 557s 698ms/step - loss: 0.0428 - acc: 0.9940 - val_loss: 0.0549 - val_acc: 0.9940\n",
      "Epoch 13/50\n",
      "798/798 [==============================] - 562s 704ms/step - loss: 0.0413 - acc: 0.9938 - val_loss: 0.0552 - val_acc: 0.9940\n",
      "Epoch 14/50\n",
      "798/798 [==============================] - 564s 707ms/step - loss: 0.0394 - acc: 0.9936 - val_loss: 0.0544 - val_acc: 0.9941\n",
      "Epoch 15/50\n",
      "798/798 [==============================] - 546s 684ms/step - loss: 0.0376 - acc: 0.9935 - val_loss: 0.0579 - val_acc: 0.9931\n",
      "Epoch 16/50\n",
      "798/798 [==============================] - 562s 705ms/step - loss: 0.0362 - acc: 0.9923 - val_loss: 0.0577 - val_acc: 0.9918\n",
      "Epoch 17/50\n",
      "798/798 [==============================] - 558s 699ms/step - loss: 0.0345 - acc: 0.9922 - val_loss: 0.0579 - val_acc: 0.9920\n",
      "Epoch 18/50\n",
      "798/798 [==============================] - 562s 705ms/step - loss: 0.0329 - acc: 0.9916 - val_loss: 0.0623 - val_acc: 0.9912\n",
      "Epoch 19/50\n",
      "798/798 [==============================] - 560s 702ms/step - loss: 0.0312 - acc: 0.9911 - val_loss: 0.0598 - val_acc: 0.9886\n",
      "Epoch 20/50\n",
      "798/798 [==============================] - 561s 703ms/step - loss: 0.0299 - acc: 0.9868 - val_loss: 0.0627 - val_acc: 0.9885\n",
      "Epoch 21/50\n",
      "798/798 [==============================] - 551s 690ms/step - loss: 0.0284 - acc: 0.9826 - val_loss: 0.0660 - val_acc: 0.9811\n",
      "Epoch 22/50\n",
      "798/798 [==============================] - 543s 681ms/step - loss: 0.0276 - acc: 0.9791 - val_loss: 0.0670 - val_acc: 0.9727\n",
      "Epoch 23/50\n",
      "798/798 [==============================] - 564s 707ms/step - loss: 0.0261 - acc: 0.9746 - val_loss: 0.0711 - val_acc: 0.9766\n",
      "Epoch 24/50\n",
      "798/798 [==============================] - 565s 708ms/step - loss: 0.0251 - acc: 0.9692 - val_loss: 0.0715 - val_acc: 0.9671\n",
      "Epoch 25/50\n",
      "798/798 [==============================] - 567s 710ms/step - loss: 0.0241 - acc: 0.9643 - val_loss: 0.0727 - val_acc: 0.9695\n",
      "Epoch 26/50\n",
      "798/798 [==============================] - 565s 708ms/step - loss: 0.0235 - acc: 0.9546 - val_loss: 0.0736 - val_acc: 0.9688\n",
      "Epoch 27/50\n",
      "798/798 [==============================] - 567s 710ms/step - loss: 0.0224 - acc: 0.9575 - val_loss: 0.0764 - val_acc: 0.9460\n",
      "Epoch 28/50\n",
      "798/798 [==============================] - 565s 708ms/step - loss: 0.0217 - acc: 0.9340 - val_loss: 0.0743 - val_acc: 0.9347\n",
      "Epoch 29/50\n",
      "798/798 [==============================] - 566s 710ms/step - loss: 0.0210 - acc: 0.8269 - val_loss: 0.0794 - val_acc: 0.9545\n",
      "Epoch 30/50\n",
      "798/798 [==============================] - 20817s 26s/step - loss: 0.0201 - acc: 0.8500 - val_loss: 0.0808 - val_acc: 0.9409\n",
      "Epoch 31/50\n",
      "798/798 [==============================] - 287s 360ms/step - loss: 0.0204 - acc: 0.9278 - val_loss: 0.0814 - val_acc: 0.9322\n",
      "Epoch 32/50\n",
      "798/798 [==============================] - 317s 397ms/step - loss: 0.0193 - acc: 0.7929 - val_loss: 0.0821 - val_acc: 0.9530\n",
      "Epoch 33/50\n",
      "798/798 [==============================] - 315s 395ms/step - loss: 0.0185 - acc: 0.6495 - val_loss: 0.0834 - val_acc: 0.8037\n",
      "Epoch 34/50\n",
      "798/798 [==============================] - 358s 448ms/step - loss: 0.0177 - acc: 0.7720 - val_loss: 0.0809 - val_acc: 0.6039\n",
      "Epoch 35/50\n",
      "798/798 [==============================] - 348s 436ms/step - loss: 0.0175 - acc: 0.5713 - val_loss: 0.0846 - val_acc: 0.9350\n",
      "Epoch 36/50\n",
      "798/798 [==============================] - 317s 398ms/step - loss: 0.0170 - acc: 0.5426 - val_loss: 0.0826 - val_acc: 0.4104\n",
      "Epoch 37/50\n",
      "798/798 [==============================] - 317s 397ms/step - loss: 0.0164 - acc: 0.5305 - val_loss: 0.0838 - val_acc: 0.5600\n",
      "Epoch 38/50\n",
      "798/798 [==============================] - 315s 395ms/step - loss: 0.0161 - acc: 0.3042 - val_loss: 0.0877 - val_acc: 0.5983\n",
      "Epoch 39/50\n",
      "798/798 [==============================] - 347s 435ms/step - loss: 0.0153 - acc: 0.2863 - val_loss: 0.0906 - val_acc: 0.4075\n",
      "Epoch 40/50\n",
      "798/798 [==============================] - 342s 428ms/step - loss: 0.0156 - acc: 0.4282 - val_loss: 0.0902 - val_acc: 0.7001\n",
      "Epoch 41/50\n",
      "798/798 [==============================] - 377s 472ms/step - loss: 0.0147 - acc: 0.5156 - val_loss: 0.0893 - val_acc: 0.1401\n",
      "Epoch 42/50\n",
      "798/798 [==============================] - 361s 453ms/step - loss: 0.0144 - acc: 0.1783 - val_loss: 0.0907 - val_acc: 0.1138\n",
      "Epoch 43/50\n",
      "798/798 [==============================] - 386s 484ms/step - loss: 0.0138 - acc: 0.1755 - val_loss: 0.0969 - val_acc: 0.1188\n",
      "Epoch 44/50\n",
      "798/798 [==============================] - 397s 497ms/step - loss: 0.0133 - acc: 0.1397 - val_loss: 0.0937 - val_acc: 0.2031\n",
      "Epoch 45/50\n",
      "798/798 [==============================] - 357s 448ms/step - loss: 0.0132 - acc: 0.1294 - val_loss: 0.0959 - val_acc: 0.1009\n",
      "Epoch 46/50\n",
      "798/798 [==============================] - 304s 381ms/step - loss: 0.0128 - acc: 0.1010 - val_loss: 0.0919 - val_acc: 0.1112\n",
      "Epoch 47/50\n",
      "798/798 [==============================] - 310s 388ms/step - loss: 0.0125 - acc: 0.1632 - val_loss: 0.0945 - val_acc: 0.1056\n",
      "Epoch 48/50\n",
      "798/798 [==============================] - 311s 390ms/step - loss: 0.0141 - acc: 0.1336 - val_loss: 0.0926 - val_acc: 0.1050\n",
      "Epoch 49/50\n",
      "798/798 [==============================] - 317s 398ms/step - loss: 0.0114 - acc: 0.1344 - val_loss: 0.1005 - val_acc: 0.1052\n",
      "Epoch 50/50\n",
      "798/798 [==============================] - 322s 404ms/step - loss: 0.0107 - acc: 0.1003 - val_loss: 0.1039 - val_acc: 0.1067\n"
     ]
    }
   ],
   "source": [
    "history = model.fit(X_train, y_train, batch_size=128, epochs=50, verbose=1, validation_split=0.2)"
   ]
  },
  {
   "cell_type": "code",
   "execution_count": 94,
   "id": "0167fa85",
   "metadata": {},
   "outputs": [
    {
     "name": "stdout",
     "output_type": "stream",
     "text": [
      "hjhj\n"
     ]
    }
   ],
   "source": [
    "print('hjhj')"
   ]
  },
  {
   "cell_type": "code",
   "execution_count": 93,
   "id": "f591b5ae",
   "metadata": {},
   "outputs": [
    {
     "data": {
      "text/plain": [
       "'C:\\\\Users\\\\MSALMANN\\\\Work_dir\\\\Projects\\\\dell\\\\context_anomaly'"
      ]
     },
     "execution_count": 93,
     "metadata": {},
     "output_type": "execute_result"
    }
   ],
   "source": [
    "pwd"
   ]
  },
  {
   "cell_type": "code",
   "execution_count": 107,
   "id": "2e1ef67d",
   "metadata": {},
   "outputs": [
    {
     "name": "stderr",
     "output_type": "stream",
     "text": [
      "C:\\Users\\MSALMANN\\Anaconda3\\Anaconda3\\envs\\track\\lib\\site-packages\\keras\\src\\engine\\training.py:3103: UserWarning: You are saving your model as an HDF5 file via `model.save()`. This file format is considered legacy. We recommend using instead the native Keras format, e.g. `model.save('my_model.keras')`.\n",
      "  saving_api.save_model(\n"
     ]
    }
   ],
   "source": [
    "model.save('model_ml_classifier.h5')"
   ]
  },
  {
   "cell_type": "code",
   "execution_count": 95,
   "id": "9f179911",
   "metadata": {},
   "outputs": [
    {
     "name": "stdout",
     "output_type": "stream",
     "text": [
      "998/998 [==============================] - 55s 55ms/step - loss: 0.1000 - acc: 0.1032\n",
      "Test Score: 0.0999956801533699\n",
      "Test Accuracy: 0.1032116562128067\n"
     ]
    }
   ],
   "source": [
    "score = model.evaluate(X_test, y_test, verbose=1)\n",
    "\n",
    "print(\"Test Score:\", score[0])\n",
    "print(\"Test Accuracy:\", score[1])"
   ]
  },
  {
   "cell_type": "code",
   "execution_count": 46,
   "id": "d135597f",
   "metadata": {},
   "outputs": [
    {
     "data": {
      "image/png": "[encoded data removed]",
      "text/plain": [
       "<Figure size 1000x800 with 1 Axes>"
      ]
     },
     "metadata": {},
     "output_type": "display_data"
    },
    {
     "data": {
      "image/png": "[encoded data removed]",
      "text/plain": [
       "<Figure size 1000x800 with 1 Axes>"
      ]
     },
     "metadata": {},
     "output_type": "display_data"
    }
   ],
   "source": [
    "import matplotlib.pyplot as plt\n",
    "\n",
    "plt.plot(history.history['acc'])\n",
    "plt.plot(history.history['val_acc'])\n",
    "\n",
    "plt.title('model accuracy')\n",
    "plt.ylabel('accuracy')\n",
    "plt.xlabel('epoch')\n",
    "plt.legend(['train','test'], loc='upper left')\n",
    "plt.show()\n",
    "\n",
    "plt.plot(history.history['loss'])\n",
    "plt.plot(history.history['val_loss'])\n",
    "\n",
    "plt.title('model loss')\n",
    "plt.ylabel('loss')\n",
    "plt.xlabel('epoch')\n",
    "plt.legend(['train','test'], loc='upper left')\n",
    "plt.show()"
   ]
  },
  {
   "cell_type": "code",
   "execution_count": null,
   "id": "49973c2b",
   "metadata": {},
   "outputs": [],
   "source": []
  },
  {
   "cell_type": "code",
   "execution_count": 61,
   "id": "8cb96336",
   "metadata": {},
   "outputs": [],
   "source": [
    "toxic_comments['gh'] = toxic_comments.apply(lambda x: x.toxic+x.severe_toxic+x.obscene+x.threat+x.insult+x.identity_hate, axis=1)"
   ]
  },
  {
   "cell_type": "code",
   "execution_count": 62,
   "id": "a9389411",
   "metadata": {},
   "outputs": [
    {
     "data": {
      "text/html": [
       "<div>\n",
       "<style scoped>\n",
       "    .dataframe tbody tr th:only-of-type {\n",
       "        vertical-align: middle;\n",
       "    }\n",
       "\n",
       "    .dataframe tbody tr th {\n",
       "        vertical-align: top;\n",
       "    }\n",
       "\n",
       "    .dataframe thead th {\n",
       "        text-align: right;\n",
       "    }\n",
       "</style>\n",
       "<table border=\"1\" class=\"dataframe\">\n",
       "  <thead>\n",
       "    <tr style=\"text-align: right;\">\n",
       "      <th></th>\n",
       "      <th>id</th>\n",
       "      <th>comment_text</th>\n",
       "      <th>toxic</th>\n",
       "      <th>severe_toxic</th>\n",
       "      <th>obscene</th>\n",
       "      <th>threat</th>\n",
       "      <th>insult</th>\n",
       "      <th>identity_hate</th>\n",
       "      <th>gh</th>\n",
       "    </tr>\n",
       "  </thead>\n",
       "  <tbody>\n",
       "    <tr>\n",
       "      <th>6</th>\n",
       "      <td>0002bcb3da6cb337</td>\n",
       "      <td>COCKSUCKER BEFORE YOU PISS AROUND ON MY WORK</td>\n",
       "      <td>1</td>\n",
       "      <td>1</td>\n",
       "      <td>1</td>\n",
       "      <td>0</td>\n",
       "      <td>1</td>\n",
       "      <td>0</td>\n",
       "      <td>4</td>\n",
       "    </tr>\n",
       "    <tr>\n",
       "      <th>12</th>\n",
       "      <td>0005c987bdfc9d4b</td>\n",
       "      <td>Hey... what is it..\\n@ | talk .\\nWhat is it......</td>\n",
       "      <td>1</td>\n",
       "      <td>0</td>\n",
       "      <td>0</td>\n",
       "      <td>0</td>\n",
       "      <td>0</td>\n",
       "      <td>0</td>\n",
       "      <td>1</td>\n",
       "    </tr>\n",
       "    <tr>\n",
       "      <th>16</th>\n",
       "      <td>0007e25b2121310b</td>\n",
       "      <td>Bye! \\n\\nDon't look, come or think of comming ...</td>\n",
       "      <td>1</td>\n",
       "      <td>0</td>\n",
       "      <td>0</td>\n",
       "      <td>0</td>\n",
       "      <td>0</td>\n",
       "      <td>0</td>\n",
       "      <td>1</td>\n",
       "    </tr>\n",
       "    <tr>\n",
       "      <th>42</th>\n",
       "      <td>001810bf8c45bf5f</td>\n",
       "      <td>You are gay or antisemmitian? \\n\\nArchangel WH...</td>\n",
       "      <td>1</td>\n",
       "      <td>0</td>\n",
       "      <td>1</td>\n",
       "      <td>0</td>\n",
       "      <td>1</td>\n",
       "      <td>1</td>\n",
       "      <td>4</td>\n",
       "    </tr>\n",
       "    <tr>\n",
       "      <th>43</th>\n",
       "      <td>00190820581d90ce</td>\n",
       "      <td>FUCK YOUR FILTHY MOTHER IN THE ASS, DRY!</td>\n",
       "      <td>1</td>\n",
       "      <td>0</td>\n",
       "      <td>1</td>\n",
       "      <td>0</td>\n",
       "      <td>1</td>\n",
       "      <td>0</td>\n",
       "      <td>3</td>\n",
       "    </tr>\n",
       "    <tr>\n",
       "      <th>...</th>\n",
       "      <td>...</td>\n",
       "      <td>...</td>\n",
       "      <td>...</td>\n",
       "      <td>...</td>\n",
       "      <td>...</td>\n",
       "      <td>...</td>\n",
       "      <td>...</td>\n",
       "      <td>...</td>\n",
       "      <td>...</td>\n",
       "    </tr>\n",
       "    <tr>\n",
       "      <th>159494</th>\n",
       "      <td>fef4cf7ba0012866</td>\n",
       "      <td>\"\\n\\n our previous conversation \\n\\nyou fuckin...</td>\n",
       "      <td>1</td>\n",
       "      <td>0</td>\n",
       "      <td>1</td>\n",
       "      <td>0</td>\n",
       "      <td>1</td>\n",
       "      <td>1</td>\n",
       "      <td>4</td>\n",
       "    </tr>\n",
       "    <tr>\n",
       "      <th>159514</th>\n",
       "      <td>ff39a2895fc3b40e</td>\n",
       "      <td>YOU ARE A MISCHIEVIOUS PUBIC HAIR</td>\n",
       "      <td>1</td>\n",
       "      <td>0</td>\n",
       "      <td>0</td>\n",
       "      <td>0</td>\n",
       "      <td>1</td>\n",
       "      <td>0</td>\n",
       "      <td>2</td>\n",
       "    </tr>\n",
       "    <tr>\n",
       "      <th>159541</th>\n",
       "      <td>ffa33d3122b599d6</td>\n",
       "      <td>Your absurd edits \\n\\nYour absurd edits on gre...</td>\n",
       "      <td>1</td>\n",
       "      <td>0</td>\n",
       "      <td>1</td>\n",
       "      <td>0</td>\n",
       "      <td>1</td>\n",
       "      <td>0</td>\n",
       "      <td>3</td>\n",
       "    </tr>\n",
       "    <tr>\n",
       "      <th>159546</th>\n",
       "      <td>ffb47123b2d82762</td>\n",
       "      <td>\"\\n\\nHey listen don't you ever!!!! Delete my e...</td>\n",
       "      <td>1</td>\n",
       "      <td>0</td>\n",
       "      <td>0</td>\n",
       "      <td>0</td>\n",
       "      <td>1</td>\n",
       "      <td>0</td>\n",
       "      <td>2</td>\n",
       "    </tr>\n",
       "    <tr>\n",
       "      <th>159554</th>\n",
       "      <td>ffbdbb0483ed0841</td>\n",
       "      <td>and i'm going to keep posting the stuff u dele...</td>\n",
       "      <td>1</td>\n",
       "      <td>0</td>\n",
       "      <td>1</td>\n",
       "      <td>0</td>\n",
       "      <td>1</td>\n",
       "      <td>0</td>\n",
       "      <td>3</td>\n",
       "    </tr>\n",
       "  </tbody>\n",
       "</table>\n",
       "<p>16225 rows × 9 columns</p>\n",
       "</div>"
      ],
      "text/plain": [
       "                      id                                       comment_text  \\\n",
       "6       0002bcb3da6cb337       COCKSUCKER BEFORE YOU PISS AROUND ON MY WORK   \n",
       "12      0005c987bdfc9d4b  Hey... what is it..\\n@ | talk .\\nWhat is it......   \n",
       "16      0007e25b2121310b  Bye! \\n\\nDon't look, come or think of comming ...   \n",
       "42      001810bf8c45bf5f  You are gay or antisemmitian? \\n\\nArchangel WH...   \n",
       "43      00190820581d90ce           FUCK YOUR FILTHY MOTHER IN THE ASS, DRY!   \n",
       "...                  ...                                                ...   \n",
       "159494  fef4cf7ba0012866  \"\\n\\n our previous conversation \\n\\nyou fuckin...   \n",
       "159514  ff39a2895fc3b40e                  YOU ARE A MISCHIEVIOUS PUBIC HAIR   \n",
       "159541  ffa33d3122b599d6  Your absurd edits \\n\\nYour absurd edits on gre...   \n",
       "159546  ffb47123b2d82762  \"\\n\\nHey listen don't you ever!!!! Delete my e...   \n",
       "159554  ffbdbb0483ed0841  and i'm going to keep posting the stuff u dele...   \n",
       "\n",
       "        toxic  severe_toxic  obscene  threat  insult  identity_hate  gh  \n",
       "6           1             1        1       0       1              0   4  \n",
       "12          1             0        0       0       0              0   1  \n",
       "16          1             0        0       0       0              0   1  \n",
       "42          1             0        1       0       1              1   4  \n",
       "43          1             0        1       0       1              0   3  \n",
       "...       ...           ...      ...     ...     ...            ...  ..  \n",
       "159494      1             0        1       0       1              1   4  \n",
       "159514      1             0        0       0       1              0   2  \n",
       "159541      1             0        1       0       1              0   3  \n",
       "159546      1             0        0       0       1              0   2  \n",
       "159554      1             0        1       0       1              0   3  \n",
       "\n",
       "[16225 rows x 9 columns]"
      ]
     },
     "execution_count": 62,
     "metadata": {},
     "output_type": "execute_result"
    }
   ],
   "source": [
    "toxic_comments[toxic_comments['gh']!=0]"
   ]
  },
  {
   "cell_type": "code",
   "execution_count": null,
   "id": "2491367a",
   "metadata": {},
   "outputs": [],
   "source": []
  },
  {
   "cell_type": "code",
   "execution_count": 88,
   "id": "b3df9243",
   "metadata": {},
   "outputs": [
    {
     "data": {
      "text/plain": [
       "[('toxic', 0.7941986),\n",
       " ('Normal', 0.14295311),\n",
       " ('obscene', 0.67907226),\n",
       " ('Normal', 0.05145515),\n",
       " ('insult', 0.6222574),\n",
       " ('Normal', 0.120512836)]"
      ]
     },
     "execution_count": 88,
     "metadata": {},
     "output_type": "execute_result"
    }
   ],
   "source": [
    "new_comment = [toxic_comments.loc[43].comment_text]\n",
    "seq = tokenizer.texts_to_sequences(new_comment)\n",
    "padded = pad_sequences(seq, maxlen=maxlen)\n",
    "pred = model.predict(padded)\n",
    "labels = [\"toxic\", \"severe_toxic\", \"obscene\", \"threat\", \"insult\", \"identity_hate\"]\n",
    "[(labels[idx],x) if x>0.5 else ('Normal',x) for idx, x in enumerate(pred[0])]"
   ]
  },
  {
   "cell_type": "code",
   "execution_count": null,
   "id": "cbd54530",
   "metadata": {},
   "outputs": [],
   "source": []
  },
  {
   "cell_type": "code",
   "execution_count": null,
   "id": "ef88c881",
   "metadata": {},
   "outputs": [],
   "source": []
  },
  {
   "cell_type": "code",
   "execution_count": null,
   "id": "7b448088",
   "metadata": {},
   "outputs": [],
   "source": [
    "input : log_line\n",
    "output : issue types"
   ]
  },
  {
   "cell_type": "code",
   "execution_count": null,
   "id": "53e466d8",
   "metadata": {},
   "outputs": [],
   "source": []
  },
  {
   "cell_type": "code",
   "execution_count": null,
   "id": "7ca208c4",
   "metadata": {},
   "outputs": [],
   "source": [
    "Dataset \n",
    "Script preperation\n",
    "Training\n",
    "Evaluation"
   ]
  },
  {
   "cell_type": "code",
   "execution_count": null,
   "id": "2548d256",
   "metadata": {},
   "outputs": [],
   "source": []
  },
  {
   "cell_type": "code",
   "execution_count": null,
   "id": "8acdf84e",
   "metadata": {},
   "outputs": [],
   "source": []
  },
  {
   "cell_type": "code",
   "execution_count": 99,
   "id": "3ce8feac",
   "metadata": {},
   "outputs": [],
   "source": [
    "import pandas as pd"
   ]
  },
  {
   "cell_type": "code",
   "execution_count": 106,
   "id": "2ac665a0",
   "metadata": {},
   "outputs": [],
   "source": [
    "pd.DataFrame([['salman','munammad',1,'valiyakath']], columns=['one','two','three','four']).to_csv('sample.csv',index=False)"
   ]
  },
  {
   "cell_type": "code",
   "execution_count": null,
   "id": "397411e5",
   "metadata": {},
   "outputs": [],
   "source": []
  }
 ],
 "metadata": {
  "kernelspec": {
   "display_name": "track",
   "language": "python",
   "name": "track"
  },
  "language_info": {
   "codemirror_mode": {
    "name": "ipython",
    "version": 3
   },
   "file_extension": ".py",
   "mimetype": "text/x-python",
   "name": "python",
   "nbconvert_exporter": "python",
   "pygments_lexer": "ipython3",
   "version": "3.9.16"
  }
 },
 "nbformat": 4,
 "nbformat_minor": 5
}
